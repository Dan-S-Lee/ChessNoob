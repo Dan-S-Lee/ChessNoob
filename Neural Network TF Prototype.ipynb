{
 "cells": [
  {
   "cell_type": "code",
   "execution_count": 3,
   "metadata": {},
   "outputs": [],
   "source": [
    "import tensorflow as tf\n",
    "import math\n",
    "import numpy as np\n",
    "import h5py\n",
    "import matplotlib.pyplot as plt"
   ]
  },
  {
   "cell_type": "code",
   "execution_count": 4,
   "metadata": {},
   "outputs": [],
   "source": [
    "data = h5py.File('training_set.hdf5', 'r')"
   ]
  },
  {
   "cell_type": "code",
   "execution_count": 7,
   "metadata": {},
   "outputs": [],
   "source": [
    "X_train, Y_train, X_test, Y_test = data['game_1_x'], data['game_1_y1'], data['game_2_x'], data['game_2_y1']\n",
    "X_train = np.transpose(X_train)"
   ]
  },
  {
   "cell_type": "code",
   "execution_count": 14,
   "metadata": {},
   "outputs": [],
   "source": [
    "def create_placeholders(n_x, n_y):\n",
    "    '''\n",
    "    Arguments:\n",
    "    n_x -- scalar, size of the vector = 768\n",
    "    n_y -- scalar, number of classes (64)\n",
    "    \n",
    "    Returns:\n",
    "    X -- placeholder for the data input, shape[n_x, None] and dtype tf.float32\n",
    "    Y -- placeholder fo rinput labels, shape [n_y, None] and dtype tf.float32\n",
    "    '''\n",
    "    X = tf.placeholder(tf.float32, [n_x, None], name = 'X')\n",
    "    Y = tf.placeholder(tf.float32, [n_y, None], name = 'Y')\n",
    "    \n",
    "    return X, Y"
   ]
  },
  {
   "cell_type": "code",
   "execution_count": 16,
   "metadata": {},
   "outputs": [
    {
     "name": "stdout",
     "output_type": "stream",
     "text": [
      "X = Tensor(\"X_1:0\", shape=(768, ?), dtype=float32)\n",
      "Y = Tensor(\"Y_1:0\", shape=(64, ?), dtype=float32)\n"
     ]
    }
   ],
   "source": [
    "X, Y = create_placeholders(768, 64)\n",
    "print (\"X = \" + str(X))\n",
    "print (\"Y = \" + str(Y))"
   ]
  },
  {
   "cell_type": "code",
   "execution_count": 36,
   "metadata": {},
   "outputs": [],
   "source": [
    "def initialize_parameters():\n",
    "    '''\n",
    "    Initializes parameters to build a neural network with tensorflow. The shapes are:\n",
    "                        W1 : [256, 768]\n",
    "                        b1 : [256, 1]\n",
    "                        W2 : [128, 256]\n",
    "                        b2 : [128, 1]\n",
    "                        W3 : [64, 128]\n",
    "                        b3 : [64, 1]\n",
    "    \n",
    "    Returns:\n",
    "    parameters -- a dictionary of tensors containing W1, b1, W2, b2, W3, b3 \n",
    "    '''\n",
    "    W1 = tf.get_variable('W1', [256, 768], initializer = tf.contrib.layers.xavier_initializer())\n",
    "    b1 = tf.get_variable('b1', [256, 1], initializer = tf.zeros_initializer())\n",
    "    \n",
    "    W2 = tf.get_variable('W2', [128, 256], initializer = tf.contrib.layers.xavier_initializer())\n",
    "    b2 = tf.get_variable('b2', [128, 1], initializer = tf.zeros_initializer())\n",
    "    \n",
    "    W3 = tf.get_variable('W3', [64, 128], initializer = tf.contrib.layers.xavier_initializer())\n",
    "    b3 = tf.get_variable('b3', [64, 1], initializer = tf.zeros_initializer())\n",
    "    \n",
    "    parameters = {\"W1\": W1,\n",
    "                  \"b1\": b1,\n",
    "                  \"W2\": W2,\n",
    "                  \"b2\": b2,\n",
    "                  \"W3\": W3,\n",
    "                  \"b3\": b3}\n",
    "    \n",
    "    return parameters"
   ]
  },
  {
   "cell_type": "code",
   "execution_count": 37,
   "metadata": {},
   "outputs": [
    {
     "name": "stdout",
     "output_type": "stream",
     "text": [
      "W1 = <tf.Variable 'W1:0' shape=(256, 768) dtype=float32_ref>\n",
      "b1 = <tf.Variable 'b1:0' shape=(256, 1) dtype=float32_ref>\n",
      "W2 = <tf.Variable 'W2:0' shape=(128, 256) dtype=float32_ref>\n",
      "b2 = <tf.Variable 'b2:0' shape=(128, 1) dtype=float32_ref>\n"
     ]
    }
   ],
   "source": [
    "tf.reset_default_graph()\n",
    "with tf.Session() as sess:\n",
    "    parameters = initialize_parameters()\n",
    "    print('W1 = ' + str(parameters['W1']))\n",
    "    print('b1 = ' + str(parameters['b1']))\n",
    "    print('W2 = ' + str(parameters['W2']))\n",
    "    print('b2 = ' + str(parameters['b2']))"
   ]
  },
  {
   "cell_type": "code",
   "execution_count": 38,
   "metadata": {},
   "outputs": [],
   "source": [
    "def forward_propagation(X, parameters):\n",
    "    '''Implements forward propagation for the model as follows;\n",
    "    Linear - RELU - LINEAR - RELU - LINEAR - SOFTMAX\n",
    "    Arguments:\n",
    "    X -- input dataset placeholder shape (input size, number of examples)\n",
    "    parametesr -- dictionary containing weights and biases 'W1', 'b1', etc.\n",
    "    '''\n",
    "    W1 = parameters['W1']\n",
    "    b1 = parameters['b1']\n",
    "    W2 = parameters['W2']\n",
    "    b2 = parameters['b2']\n",
    "    W3 = parameters['W3']\n",
    "    b3 = parameters['b3']\n",
    "    \n",
    "    Z1 = tf.add(tf.matmul(W1, X), b1)\n",
    "    A1 = tf.nn.relu(Z1)\n",
    "    Z2 = tf.add(tf.matmul(W2, A1), b2)\n",
    "    A2 = tf.nn.relu(Z2)\n",
    "    Z3 = tf.add(tf.matmul(W3, A2), b3)\n",
    "    \n",
    "    return Z3"
   ]
  },
  {
   "cell_type": "code",
   "execution_count": 40,
   "metadata": {},
   "outputs": [
    {
     "name": "stdout",
     "output_type": "stream",
     "text": [
      "Z3 = Tensor(\"Add_2:0\", shape=(64, ?), dtype=float32)\n"
     ]
    }
   ],
   "source": [
    "tf.reset_default_graph()\n",
    "with tf.Session() as sess:\n",
    "    X, Y = create_placeholders(768, 64)\n",
    "    parameters = initialize_parameters()\n",
    "    Z3 = forward_propagation(X, parameters)\n",
    "    print('Z3 = ' + str(Z3))"
   ]
  },
  {
   "cell_type": "code",
   "execution_count": 43,
   "metadata": {},
   "outputs": [],
   "source": [
    "def compute_cost(Z3, Y):\n",
    "    '''compute cost\n",
    "    Arguments:\n",
    "    Z3 -- output of forward propagation( output of last linear unit), shape (64, examples #)\n",
    "    Y -- \"true\" labels vector placeholder, same shape as Z3 \n",
    "    returns:\n",
    "    cost - tensor of cost function'''\n",
    "    \n",
    "    logits = tf.transpose(Z3)\n",
    "    labels = tf.transpose(Y)\n",
    "    \n",
    "    cost = tf.reduce_mean(tf.nn.softmax_cross_entropy_with_logits_v2(logits = logits, labels = labels))\n",
    "    \n",
    "    return cost"
   ]
  },
  {
   "cell_type": "code",
   "execution_count": 44,
   "metadata": {},
   "outputs": [
    {
     "name": "stdout",
     "output_type": "stream",
     "text": [
      "cost = Tensor(\"Mean:0\", shape=(), dtype=float32)\n"
     ]
    }
   ],
   "source": [
    "tf.reset_default_graph()\n",
    "with tf.Session() as sess:\n",
    "    X, Y = create_placeholders(768, 64)\n",
    "    parameters = initialize_parameters()\n",
    "    Z3 = forward_propagation(X, parameters)\n",
    "    cost = compute_cost(Z3, Y)\n",
    "    print('cost = ' + str(cost))"
   ]
  },
  {
   "cell_type": "code",
   "execution_count": 47,
   "metadata": {},
   "outputs": [],
   "source": [
    "def model(X_train, Y_train, X_test, Y_test, learning_rate = 0.0001,\n",
    "         num_epochs = 1500, minibatch_size = None, print_cost = True):\n",
    "    \n",
    "    ops.reset_default_graph() # can rerun model without overwriting tf variables\n",
    "    (n_x, m) = X_train.shape # n_x: input size, m: number of examples\n",
    "    n_y = Y_train.shape[0] # n_y: output size\n",
    "    costs = []\n",
    "    \n",
    "    X, Y = create_placeholders(n_x, n_y)\n",
    "    \n",
    "    parameters = initialize_parameters()\n",
    "    \n",
    "    Z3 = forward_propagation(X, parameters)\n",
    "    \n",
    "    cost = compute_cost(Z3, Y)\n",
    "    \n",
    "    optimizer = tf.train.AdamOptimizer(learning_rate = learning_rate).minimize(cost)\n",
    "    \n",
    "    init = tf.global_variables_initializer()\n",
    "    \n",
    "    with tf.Session() as sess:\n",
    "        sess.run(init)\n",
    "        for epoch in range(num_epochs):\n",
    "            epoch_cost = 0. #defines cost for epoch\n",
    "            if minibatch_size != None:\n",
    "                num_minibatches = int(m / minibatch_size)\n",
    "                minibatches = random_mini_batches(X_train, Y_train, minibatch_size)\n",
    "                \n",
    "                for minibatch in minibatches:\n",
    "                    (minibatch_X, minibatch_Y) = minibatch\n",
    "                    \n",
    "                    _, minibatch_cost = sess.run([optimizer, cost], feed_dict = {X : minibatch_X, Y : minibatch_Y})\n",
    "                    \n",
    "                    epoch_cost += minibatch_cost / num_minibatches\n",
    "            else:\n",
    "                _, epoch_cost = sess.run([optimizer, cost], feed_dict = {X : X_train, Y : Y_train})\n",
    "            if print_cost == True and epoch % 100 == 0:\n",
    "                print('Cost after epoch {0} : {1}'.format(epoch, epoch_cost))\n",
    "            if print_cost == True and epoch % 5 == 0:\n",
    "                costs.append(epoch_cost)\n",
    "        #graph functionality\n",
    "        plt.plot(np.squeeze(costs))\n",
    "        plt.ylabel('cost')\n",
    "        plt.xlabel('iterations (per fives)')\n",
    "        plt.title('learning rate = ' + str(learning_rate))\n",
    "        plt.show()\n",
    "        \n",
    "        parameters = sess.run(parameters)\n",
    "        print('Parameters successfully trained')\n",
    "        \n",
    "        correct_prediction = tf.equal(tf.argmax(Z3), tf.argmax(Y))\n",
    "        \n",
    "        accuracy = tf.reduce_mean(tf.cast(correct_prediction), 'float')\n",
    "        \n",
    "        print('Train Accuracy:', accuracy.eval({X: X_train, Y: Y_train}))\n",
    "        print('Test Accuracy:', accuracy.eval({X: X_test, Y: Y_test}))\n",
    "        \n",
    "        return parameters"
   ]
  },
  {
   "cell_type": "code",
   "execution_count": null,
   "metadata": {},
   "outputs": [],
   "source": []
  }
 ],
 "metadata": {
  "kernelspec": {
   "display_name": "Python 3",
   "language": "python",
   "name": "python3"
  },
  "language_info": {
   "codemirror_mode": {
    "name": "ipython",
    "version": 3
   },
   "file_extension": ".py",
   "mimetype": "text/x-python",
   "name": "python",
   "nbconvert_exporter": "python",
   "pygments_lexer": "ipython3",
   "version": "3.6.7"
  }
 },
 "nbformat": 4,
 "nbformat_minor": 4
}
